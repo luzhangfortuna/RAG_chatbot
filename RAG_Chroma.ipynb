{
 "cells": [
  {
   "cell_type": "code",
   "execution_count": 15,
   "id": "ebab3ab8-aa82-4f79-ad65-ec411a505c2d",
   "metadata": {},
   "outputs": [
    {
     "name": "stdout",
     "output_type": "stream",
     "text": [
      "Requirement already satisfied: langchain in /opt/anaconda3/lib/python3.12/site-packages (0.3.14)\n",
      "Requirement already satisfied: langchain_community in /opt/anaconda3/lib/python3.12/site-packages (0.3.14)\n",
      "Requirement already satisfied: langchain_openai in /opt/anaconda3/lib/python3.12/site-packages (0.3.0)\n",
      "Requirement already satisfied: openai in /opt/anaconda3/lib/python3.12/site-packages (1.59.7)\n",
      "Requirement already satisfied: chromadb in /opt/anaconda3/lib/python3.12/site-packages (0.6.3)\n",
      "Requirement already satisfied: faiss-cpu in /opt/anaconda3/lib/python3.12/site-packages (1.9.0.post1)\n",
      "Requirement already satisfied: langchain_text_splitters in /opt/anaconda3/lib/python3.12/site-packages (0.3.5)\n",
      "Requirement already satisfied: PyYAML>=5.3 in /opt/anaconda3/lib/python3.12/site-packages (from langchain) (6.0.1)\n",
      "Requirement already satisfied: SQLAlchemy<3,>=1.4 in /opt/anaconda3/lib/python3.12/site-packages (from langchain) (2.0.34)\n",
      "Requirement already satisfied: aiohttp<4.0.0,>=3.8.3 in /opt/anaconda3/lib/python3.12/site-packages (from langchain) (3.10.5)\n",
      "Requirement already satisfied: langchain-core<0.4.0,>=0.3.29 in /opt/anaconda3/lib/python3.12/site-packages (from langchain) (0.3.29)\n",
      "Requirement already satisfied: langsmith<0.3,>=0.1.17 in /opt/anaconda3/lib/python3.12/site-packages (from langchain) (0.2.10)\n",
      "Requirement already satisfied: numpy<3,>=1.26.2 in /opt/anaconda3/lib/python3.12/site-packages (from langchain) (1.26.4)\n",
      "Requirement already satisfied: pydantic<3.0.0,>=2.7.4 in /opt/anaconda3/lib/python3.12/site-packages (from langchain) (2.10.5)\n",
      "Requirement already satisfied: requests<3,>=2 in /opt/anaconda3/lib/python3.12/site-packages (from langchain) (2.32.3)\n",
      "Requirement already satisfied: tenacity!=8.4.0,<10,>=8.1.0 in /opt/anaconda3/lib/python3.12/site-packages (from langchain) (8.2.3)\n",
      "Requirement already satisfied: dataclasses-json<0.7,>=0.5.7 in /opt/anaconda3/lib/python3.12/site-packages (from langchain_community) (0.6.7)\n",
      "Requirement already satisfied: httpx-sse<0.5.0,>=0.4.0 in /opt/anaconda3/lib/python3.12/site-packages (from langchain_community) (0.4.0)\n",
      "Requirement already satisfied: pydantic-settings<3.0.0,>=2.4.0 in /opt/anaconda3/lib/python3.12/site-packages (from langchain_community) (2.6.1)\n",
      "Requirement already satisfied: tiktoken<1,>=0.7 in /opt/anaconda3/lib/python3.12/site-packages (from langchain_openai) (0.8.0)\n",
      "Requirement already satisfied: anyio<5,>=3.5.0 in /opt/anaconda3/lib/python3.12/site-packages (from openai) (4.2.0)\n",
      "Requirement already satisfied: distro<2,>=1.7.0 in /opt/anaconda3/lib/python3.12/site-packages (from openai) (1.9.0)\n",
      "Requirement already satisfied: httpx<1,>=0.23.0 in /opt/anaconda3/lib/python3.12/site-packages (from openai) (0.27.0)\n",
      "Requirement already satisfied: jiter<1,>=0.4.0 in /opt/anaconda3/lib/python3.12/site-packages (from openai) (0.7.0)\n",
      "Requirement already satisfied: sniffio in /opt/anaconda3/lib/python3.12/site-packages (from openai) (1.3.0)\n",
      "Requirement already satisfied: tqdm>4 in /opt/anaconda3/lib/python3.12/site-packages (from openai) (4.66.5)\n",
      "Requirement already satisfied: typing-extensions<5,>=4.11 in /opt/anaconda3/lib/python3.12/site-packages (from openai) (4.12.2)\n",
      "Requirement already satisfied: build>=1.0.3 in /opt/anaconda3/lib/python3.12/site-packages (from chromadb) (1.2.2.post1)\n",
      "Requirement already satisfied: chroma-hnswlib==0.7.6 in /opt/anaconda3/lib/python3.12/site-packages (from chromadb) (0.7.6)\n",
      "Requirement already satisfied: fastapi>=0.95.2 in /opt/anaconda3/lib/python3.12/site-packages (from chromadb) (0.115.6)\n",
      "Requirement already satisfied: uvicorn>=0.18.3 in /opt/anaconda3/lib/python3.12/site-packages (from uvicorn[standard]>=0.18.3->chromadb) (0.34.0)\n",
      "Requirement already satisfied: posthog>=2.4.0 in /opt/anaconda3/lib/python3.12/site-packages (from chromadb) (3.8.3)\n",
      "Requirement already satisfied: onnxruntime>=1.14.1 in /opt/anaconda3/lib/python3.12/site-packages (from chromadb) (1.20.1)\n",
      "Requirement already satisfied: opentelemetry-api>=1.2.0 in /opt/anaconda3/lib/python3.12/site-packages (from chromadb) (1.29.0)\n",
      "Requirement already satisfied: opentelemetry-exporter-otlp-proto-grpc>=1.2.0 in /opt/anaconda3/lib/python3.12/site-packages (from chromadb) (1.29.0)\n",
      "Requirement already satisfied: opentelemetry-instrumentation-fastapi>=0.41b0 in /opt/anaconda3/lib/python3.12/site-packages (from chromadb) (0.50b0)\n",
      "Requirement already satisfied: opentelemetry-sdk>=1.2.0 in /opt/anaconda3/lib/python3.12/site-packages (from chromadb) (1.29.0)\n",
      "Requirement already satisfied: tokenizers>=0.13.2 in /opt/anaconda3/lib/python3.12/site-packages (from chromadb) (0.21.0)\n",
      "Requirement already satisfied: pypika>=0.48.9 in /opt/anaconda3/lib/python3.12/site-packages (from chromadb) (0.48.9)\n",
      "Requirement already satisfied: overrides>=7.3.1 in /opt/anaconda3/lib/python3.12/site-packages (from chromadb) (7.4.0)\n",
      "Requirement already satisfied: importlib-resources in /opt/anaconda3/lib/python3.12/site-packages (from chromadb) (6.5.2)\n",
      "Requirement already satisfied: grpcio>=1.58.0 in /opt/anaconda3/lib/python3.12/site-packages (from chromadb) (1.69.0)\n",
      "Requirement already satisfied: bcrypt>=4.0.1 in /opt/anaconda3/lib/python3.12/site-packages (from chromadb) (4.2.1)\n",
      "Requirement already satisfied: typer>=0.9.0 in /opt/anaconda3/lib/python3.12/site-packages (from chromadb) (0.9.0)\n",
      "Requirement already satisfied: kubernetes>=28.1.0 in /opt/anaconda3/lib/python3.12/site-packages (from chromadb) (31.0.0)\n",
      "Requirement already satisfied: mmh3>=4.0.1 in /opt/anaconda3/lib/python3.12/site-packages (from chromadb) (5.0.1)\n",
      "Requirement already satisfied: orjson>=3.9.12 in /opt/anaconda3/lib/python3.12/site-packages (from chromadb) (3.10.14)\n",
      "Requirement already satisfied: rich>=10.11.0 in /opt/anaconda3/lib/python3.12/site-packages (from chromadb) (13.7.1)\n",
      "Requirement already satisfied: packaging in /opt/anaconda3/lib/python3.12/site-packages (from faiss-cpu) (24.1)\n",
      "Requirement already satisfied: aiohappyeyeballs>=2.3.0 in /opt/anaconda3/lib/python3.12/site-packages (from aiohttp<4.0.0,>=3.8.3->langchain) (2.4.0)\n",
      "Requirement already satisfied: aiosignal>=1.1.2 in /opt/anaconda3/lib/python3.12/site-packages (from aiohttp<4.0.0,>=3.8.3->langchain) (1.2.0)\n",
      "Requirement already satisfied: attrs>=17.3.0 in /opt/anaconda3/lib/python3.12/site-packages (from aiohttp<4.0.0,>=3.8.3->langchain) (23.1.0)\n",
      "Requirement already satisfied: frozenlist>=1.1.1 in /opt/anaconda3/lib/python3.12/site-packages (from aiohttp<4.0.0,>=3.8.3->langchain) (1.4.0)\n",
      "Requirement already satisfied: multidict<7.0,>=4.5 in /opt/anaconda3/lib/python3.12/site-packages (from aiohttp<4.0.0,>=3.8.3->langchain) (6.0.4)\n",
      "Requirement already satisfied: yarl<2.0,>=1.0 in /opt/anaconda3/lib/python3.12/site-packages (from aiohttp<4.0.0,>=3.8.3->langchain) (1.11.0)\n",
      "Requirement already satisfied: idna>=2.8 in /opt/anaconda3/lib/python3.12/site-packages (from anyio<5,>=3.5.0->openai) (3.7)\n",
      "Requirement already satisfied: pyproject_hooks in /opt/anaconda3/lib/python3.12/site-packages (from build>=1.0.3->chromadb) (1.2.0)\n",
      "Requirement already satisfied: marshmallow<4.0.0,>=3.18.0 in /opt/anaconda3/lib/python3.12/site-packages (from dataclasses-json<0.7,>=0.5.7->langchain_community) (3.25.1)\n",
      "Requirement already satisfied: typing-inspect<1,>=0.4.0 in /opt/anaconda3/lib/python3.12/site-packages (from dataclasses-json<0.7,>=0.5.7->langchain_community) (0.9.0)\n",
      "Requirement already satisfied: starlette<0.42.0,>=0.40.0 in /opt/anaconda3/lib/python3.12/site-packages (from fastapi>=0.95.2->chromadb) (0.41.3)\n",
      "Requirement already satisfied: certifi in /opt/anaconda3/lib/python3.12/site-packages (from httpx<1,>=0.23.0->openai) (2024.8.30)\n",
      "Requirement already satisfied: httpcore==1.* in /opt/anaconda3/lib/python3.12/site-packages (from httpx<1,>=0.23.0->openai) (1.0.2)\n",
      "Requirement already satisfied: h11<0.15,>=0.13 in /opt/anaconda3/lib/python3.12/site-packages (from httpcore==1.*->httpx<1,>=0.23.0->openai) (0.14.0)\n",
      "Requirement already satisfied: six>=1.9.0 in /opt/anaconda3/lib/python3.12/site-packages (from kubernetes>=28.1.0->chromadb) (1.16.0)\n",
      "Requirement already satisfied: python-dateutil>=2.5.3 in /opt/anaconda3/lib/python3.12/site-packages (from kubernetes>=28.1.0->chromadb) (2.9.0.post0)\n",
      "Requirement already satisfied: google-auth>=1.0.1 in /opt/anaconda3/lib/python3.12/site-packages (from kubernetes>=28.1.0->chromadb) (2.37.0)\n",
      "Requirement already satisfied: websocket-client!=0.40.0,!=0.41.*,!=0.42.*,>=0.32.0 in /opt/anaconda3/lib/python3.12/site-packages (from kubernetes>=28.1.0->chromadb) (1.8.0)\n",
      "Requirement already satisfied: requests-oauthlib in /opt/anaconda3/lib/python3.12/site-packages (from kubernetes>=28.1.0->chromadb) (2.0.0)\n",
      "Requirement already satisfied: oauthlib>=3.2.2 in /opt/anaconda3/lib/python3.12/site-packages (from kubernetes>=28.1.0->chromadb) (3.2.2)\n",
      "Requirement already satisfied: urllib3>=1.24.2 in /opt/anaconda3/lib/python3.12/site-packages (from kubernetes>=28.1.0->chromadb) (2.2.3)\n",
      "Requirement already satisfied: durationpy>=0.7 in /opt/anaconda3/lib/python3.12/site-packages (from kubernetes>=28.1.0->chromadb) (0.9)\n",
      "Requirement already satisfied: jsonpatch<2.0,>=1.33 in /opt/anaconda3/lib/python3.12/site-packages (from langchain-core<0.4.0,>=0.3.29->langchain) (1.33)\n",
      "Requirement already satisfied: requests-toolbelt<2.0.0,>=1.0.0 in /opt/anaconda3/lib/python3.12/site-packages (from langsmith<0.3,>=0.1.17->langchain) (1.0.0)\n",
      "Requirement already satisfied: coloredlogs in /opt/anaconda3/lib/python3.12/site-packages (from onnxruntime>=1.14.1->chromadb) (15.0.1)\n",
      "Requirement already satisfied: flatbuffers in /opt/anaconda3/lib/python3.12/site-packages (from onnxruntime>=1.14.1->chromadb) (24.12.23)\n",
      "Requirement already satisfied: protobuf in /opt/anaconda3/lib/python3.12/site-packages (from onnxruntime>=1.14.1->chromadb) (5.29.3)\n",
      "Requirement already satisfied: sympy in /opt/anaconda3/lib/python3.12/site-packages (from onnxruntime>=1.14.1->chromadb) (1.13.2)\n",
      "Requirement already satisfied: deprecated>=1.2.6 in /opt/anaconda3/lib/python3.12/site-packages (from opentelemetry-api>=1.2.0->chromadb) (1.2.15)\n",
      "Requirement already satisfied: importlib-metadata<=8.5.0,>=6.0 in /opt/anaconda3/lib/python3.12/site-packages (from opentelemetry-api>=1.2.0->chromadb) (7.0.1)\n",
      "Requirement already satisfied: googleapis-common-protos~=1.52 in /opt/anaconda3/lib/python3.12/site-packages (from opentelemetry-exporter-otlp-proto-grpc>=1.2.0->chromadb) (1.66.0)\n",
      "Requirement already satisfied: opentelemetry-exporter-otlp-proto-common==1.29.0 in /opt/anaconda3/lib/python3.12/site-packages (from opentelemetry-exporter-otlp-proto-grpc>=1.2.0->chromadb) (1.29.0)\n",
      "Requirement already satisfied: opentelemetry-proto==1.29.0 in /opt/anaconda3/lib/python3.12/site-packages (from opentelemetry-exporter-otlp-proto-grpc>=1.2.0->chromadb) (1.29.0)\n",
      "Requirement already satisfied: opentelemetry-instrumentation-asgi==0.50b0 in /opt/anaconda3/lib/python3.12/site-packages (from opentelemetry-instrumentation-fastapi>=0.41b0->chromadb) (0.50b0)\n",
      "Requirement already satisfied: opentelemetry-instrumentation==0.50b0 in /opt/anaconda3/lib/python3.12/site-packages (from opentelemetry-instrumentation-fastapi>=0.41b0->chromadb) (0.50b0)\n",
      "Requirement already satisfied: opentelemetry-semantic-conventions==0.50b0 in /opt/anaconda3/lib/python3.12/site-packages (from opentelemetry-instrumentation-fastapi>=0.41b0->chromadb) (0.50b0)\n",
      "Requirement already satisfied: opentelemetry-util-http==0.50b0 in /opt/anaconda3/lib/python3.12/site-packages (from opentelemetry-instrumentation-fastapi>=0.41b0->chromadb) (0.50b0)\n",
      "Requirement already satisfied: wrapt<2.0.0,>=1.0.0 in /opt/anaconda3/lib/python3.12/site-packages (from opentelemetry-instrumentation==0.50b0->opentelemetry-instrumentation-fastapi>=0.41b0->chromadb) (1.14.1)\n",
      "Requirement already satisfied: asgiref~=3.0 in /opt/anaconda3/lib/python3.12/site-packages (from opentelemetry-instrumentation-asgi==0.50b0->opentelemetry-instrumentation-fastapi>=0.41b0->chromadb) (3.8.1)\n",
      "Requirement already satisfied: monotonic>=1.5 in /opt/anaconda3/lib/python3.12/site-packages (from posthog>=2.4.0->chromadb) (1.6)\n",
      "Requirement already satisfied: backoff>=1.10.0 in /opt/anaconda3/lib/python3.12/site-packages (from posthog>=2.4.0->chromadb) (2.2.1)\n",
      "Requirement already satisfied: annotated-types>=0.6.0 in /opt/anaconda3/lib/python3.12/site-packages (from pydantic<3.0.0,>=2.7.4->langchain) (0.6.0)\n",
      "Requirement already satisfied: pydantic-core==2.27.2 in /opt/anaconda3/lib/python3.12/site-packages (from pydantic<3.0.0,>=2.7.4->langchain) (2.27.2)\n",
      "Requirement already satisfied: python-dotenv>=0.21.0 in /opt/anaconda3/lib/python3.12/site-packages (from pydantic-settings<3.0.0,>=2.4.0->langchain_community) (0.21.0)\n",
      "Requirement already satisfied: charset-normalizer<4,>=2 in /opt/anaconda3/lib/python3.12/site-packages (from requests<3,>=2->langchain) (3.3.2)\n",
      "Requirement already satisfied: markdown-it-py>=2.2.0 in /opt/anaconda3/lib/python3.12/site-packages (from rich>=10.11.0->chromadb) (2.2.0)\n",
      "Requirement already satisfied: pygments<3.0.0,>=2.13.0 in /opt/anaconda3/lib/python3.12/site-packages (from rich>=10.11.0->chromadb) (2.15.1)\n",
      "Requirement already satisfied: regex>=2022.1.18 in /opt/anaconda3/lib/python3.12/site-packages (from tiktoken<1,>=0.7->langchain_openai) (2024.9.11)\n",
      "Requirement already satisfied: huggingface-hub<1.0,>=0.16.4 in /opt/anaconda3/lib/python3.12/site-packages (from tokenizers>=0.13.2->chromadb) (0.27.1)\n",
      "Requirement already satisfied: click<9.0.0,>=7.1.1 in /opt/anaconda3/lib/python3.12/site-packages (from typer>=0.9.0->chromadb) (8.1.7)\n",
      "Requirement already satisfied: httptools>=0.6.3 in /opt/anaconda3/lib/python3.12/site-packages (from uvicorn[standard]>=0.18.3->chromadb) (0.6.4)\n",
      "Requirement already satisfied: uvloop!=0.15.0,!=0.15.1,>=0.14.0 in /opt/anaconda3/lib/python3.12/site-packages (from uvicorn[standard]>=0.18.3->chromadb) (0.21.0)\n",
      "Requirement already satisfied: watchfiles>=0.13 in /opt/anaconda3/lib/python3.12/site-packages (from uvicorn[standard]>=0.18.3->chromadb) (1.0.4)\n",
      "Requirement already satisfied: websockets>=10.4 in /opt/anaconda3/lib/python3.12/site-packages (from uvicorn[standard]>=0.18.3->chromadb) (14.1)\n",
      "Requirement already satisfied: cachetools<6.0,>=2.0.0 in /opt/anaconda3/lib/python3.12/site-packages (from google-auth>=1.0.1->kubernetes>=28.1.0->chromadb) (5.3.3)\n",
      "Requirement already satisfied: pyasn1-modules>=0.2.1 in /opt/anaconda3/lib/python3.12/site-packages (from google-auth>=1.0.1->kubernetes>=28.1.0->chromadb) (0.2.8)\n",
      "Requirement already satisfied: rsa<5,>=3.1.4 in /opt/anaconda3/lib/python3.12/site-packages (from google-auth>=1.0.1->kubernetes>=28.1.0->chromadb) (4.9)\n",
      "Requirement already satisfied: filelock in /opt/anaconda3/lib/python3.12/site-packages (from huggingface-hub<1.0,>=0.16.4->tokenizers>=0.13.2->chromadb) (3.13.1)\n",
      "Requirement already satisfied: fsspec>=2023.5.0 in /opt/anaconda3/lib/python3.12/site-packages (from huggingface-hub<1.0,>=0.16.4->tokenizers>=0.13.2->chromadb) (2024.6.1)\n",
      "Requirement already satisfied: zipp>=0.5 in /opt/anaconda3/lib/python3.12/site-packages (from importlib-metadata<=8.5.0,>=6.0->opentelemetry-api>=1.2.0->chromadb) (3.17.0)\n",
      "Requirement already satisfied: jsonpointer>=1.9 in /opt/anaconda3/lib/python3.12/site-packages (from jsonpatch<2.0,>=1.33->langchain-core<0.4.0,>=0.3.29->langchain) (2.1)\n",
      "Requirement already satisfied: mdurl~=0.1 in /opt/anaconda3/lib/python3.12/site-packages (from markdown-it-py>=2.2.0->rich>=10.11.0->chromadb) (0.1.0)\n",
      "Requirement already satisfied: mypy-extensions>=0.3.0 in /opt/anaconda3/lib/python3.12/site-packages (from typing-inspect<1,>=0.4.0->dataclasses-json<0.7,>=0.5.7->langchain_community) (1.0.0)\n",
      "Requirement already satisfied: humanfriendly>=9.1 in /opt/anaconda3/lib/python3.12/site-packages (from coloredlogs->onnxruntime>=1.14.1->chromadb) (10.0)\n",
      "Requirement already satisfied: mpmath<1.4,>=1.1.0 in /opt/anaconda3/lib/python3.12/site-packages (from sympy->onnxruntime>=1.14.1->chromadb) (1.3.0)\n",
      "Requirement already satisfied: pyasn1<0.5.0,>=0.4.6 in /opt/anaconda3/lib/python3.12/site-packages (from pyasn1-modules>=0.2.1->google-auth>=1.0.1->kubernetes>=28.1.0->chromadb) (0.4.8)\n"
     ]
    }
   ],
   "source": [
    "!pip install langchain langchain_community langchain_openai openai chromadb faiss-cpu langchain_text_splitters\n"
   ]
  },
  {
   "cell_type": "code",
   "execution_count": 16,
   "id": "f4154e74-65df-4e15-8f57-97acd8773460",
   "metadata": {},
   "outputs": [
    {
     "name": "stdout",
     "output_type": "stream",
     "text": [
      "API Key loaded successfully!\n"
     ]
    }
   ],
   "source": [
    "from dotenv import load_dotenv\n",
    "import os\n",
    "\n",
    "# Load the environment variables from the specified .env file (key.env)\n",
    "load_dotenv(\"key.env\")\n",
    "\n",
    "# Get the OpenAI API key from the environment\n",
    "api_key = os.getenv(\"OPENAI_API_KEY\")\n",
    "\n",
    "# Check if the key was loaded correctly\n",
    "if api_key:\n",
    "    print(\"API Key loaded successfully!\")\n",
    "else:\n",
    "    print(\"API Key not found!\")\n"
   ]
  },
  {
   "cell_type": "code",
   "execution_count": 19,
   "id": "92a40b59-bacc-48b8-a86d-9b762a9d2fc2",
   "metadata": {},
   "outputs": [],
   "source": [
    "from langchain.chains import ConversationalRetrievalChain\n",
    "from langchain_community.vectorstores import Chroma\n",
    "from langchain_openai import ChatOpenAI, OpenAIEmbeddings\n",
    "from langchain.memory import ConversationBufferMemory, ConversationSummaryMemory\n",
    "from langchain_community.document_loaders import DirectoryLoader\n",
    "from langchain.text_splitter import RecursiveCharacterTextSplitter"
   ]
  },
  {
   "cell_type": "code",
   "execution_count": 21,
   "id": "e915a7ff-8c2d-4acd-8236-652f2a31a982",
   "metadata": {},
   "outputs": [
    {
     "name": "stdout",
     "output_type": "stream",
     "text": [
      "Loading documents\n"
     ]
    }
   ],
   "source": [
    "from langchain_community.document_loaders import PyPDFLoader\n",
    "from langchain.text_splitter import RecursiveCharacterTextSplitter\n",
    "\n",
    "# Define the paths to your PDF files\n",
    "pdf_files = ['./bain_2024.pdf', './M&Ashort top200.pdf']\n",
    "\n",
    "print(\"Loading documents\")\n",
    "# Load the documents from the PDFs\n",
    "documents = []\n",
    "for file_path in pdf_files:\n",
    "    loader = PyPDFLoader(file_path)\n",
    "    documents += loader.load()"
   ]
  },
  {
   "cell_type": "code",
   "execution_count": 23,
   "id": "2e012e8b-c435-45fc-a787-b13387569692",
   "metadata": {},
   "outputs": [
    {
     "name": "stdout",
     "output_type": "stream",
     "text": [
      "Loaded 306 chunks from the PDF files.\n"
     ]
    }
   ],
   "source": [
    "# Split the documents into chunks (optional)\n",
    "text_splitter = RecursiveCharacterTextSplitter(chunk_size=1000, chunk_overlap=0)\n",
    "chunks = text_splitter.split_documents(documents)\n",
    "\n",
    "print(f\"Loaded {len(chunks)} chunks from the PDF files.\")\n"
   ]
  },
  {
   "cell_type": "code",
   "execution_count": 25,
   "id": "dacd1c51-6a17-4726-bc52-485601a7ec6b",
   "metadata": {},
   "outputs": [
    {
     "name": "stdout",
     "output_type": "stream",
     "text": [
      "Creating embeddings\n"
     ]
    }
   ],
   "source": [
    "print(\"Creating embeddings\")\n",
    "# Create embeddings for each chunk\n",
    "embeddings = OpenAIEmbeddings()\n",
    "#Vector Store:\n",
    "#Purpose: Store embeddings for document chunks and provide fast similarity search.\n",
    "#Popular options: Chroma, Pinecone, FAISS.\n",
    "vectorstore = Chroma.from_documents(chunks, embeddings)\n",
    "retriever = vectorstore.as_retriever()"
   ]
  },
  {
   "cell_type": "code",
   "execution_count": null,
   "id": "0f219eaa-47e8-4d11-aba2-24f6c2b4f162",
   "metadata": {},
   "outputs": [],
   "source": [
    "from langchain.memory import ConversationBufferMemory\n",
    "\n",
    "# Updated memory instantiation\n",
    "memory = ConversationBufferMemory()\n"
   ]
  },
  {
   "cell_type": "code",
   "execution_count": null,
   "id": "6f077e39-da7e-480a-b128-34a9ba23e0b6",
   "metadata": {},
   "outputs": [
    {
     "name": "stderr",
     "output_type": "stream",
     "text": [
      "/var/folders/ln/yt8q_tpx1dsbdx1pt2pf3bcm0000gn/T/ipykernel_40053/579374325.py:3: LangChainDeprecationWarning: Please see the migration guide at: https://python.langchain.com/docs/versions/migrating_memory/\n",
      "  memory = ConversationBufferMemory(memory_key=\"chat_history\", return_messages=True)\n"
     ]
    },
    {
     "name": "stdout",
     "output_type": "stream",
     "text": [
      "Creating chains\n"
     ]
    },
    {
     "name": "stdin",
     "output_type": "stream",
     "text": [
      ">  any insights about merge and acquisitions in the germany\n"
     ]
    },
    {
     "name": "stdout",
     "output_type": "stream",
     "text": [
      "\n",
      "\n",
      "\u001b[1m> Entering new StuffDocumentsChain chain...\u001b[0m\n",
      "\n",
      "\n",
      "\u001b[1m> Entering new LLMChain chain...\u001b[0m\n",
      "Prompt after formatting:\n",
      "\u001b[32;1m\u001b[1;3mSystem: Use the following pieces of context to answer the user's question. \n",
      "If you don't know the answer, just say that you don't know, don't try to make up an answer.\n",
      "----------------\n",
      "Given the relatively high fixed costs in some of these areas, there is more potential to benefit from \n",
      "cross-regional scale than there is in traditional building products. Hilti, for example, in 2021 \n",
      "acquired Fieldwire, a platform for jobsite management, to accelerate its ability to deliver \n",
      "productivity to its customers across more than a million jobsites worldwide. \n",
      "In Europe, sustainability will spur the next wave of M&A, with players buying into cleaner \n",
      "categories, such as wood, or acquiring emerging capabilities that will underpin a low-carbon future.\n",
      "\n",
      "Given the relatively high fixed costs in some of these areas, there is more potential to benefit from \n",
      "cross-regional scale than there is in traditional building products. Hilti, for example, in 2021 \n",
      "acquired Fieldwire, a platform for jobsite management, to accelerate its ability to deliver \n",
      "productivity to its customers across more than a million jobsites worldwide. \n",
      "In Europe, sustainability will spur the next wave of M&A, with players buying into cleaner \n",
      "categories, such as wood, or acquiring emerging capabilities that will underpin a low-carbon future.\n",
      "\n",
      "rate-cutting cycle in August. One such example was Minerva Foods’ $1.5 billion acquisition of 16 \n",
      "slaughterhouse plants in Latin America from rival Marfrig Global Foods in a transformational deal \n",
      "expected to double its production capacity.\n",
      "As domestic dealmakers shake off the dust from a relatively low year of M&A activity in 2023, the \n",
      "market for the year ahead is likely to look different. Regulatory timelines are continuing to shorten, \n",
      "macroeconomic factors are increasingly favorable, and the presence and attention of international \n",
      "acquirers is unlikely to subside. Domestic private equity funds also have substantial dry powder \n",
      "after being largely absent from the market in 2023.\n",
      "Yet while deal math may get easier, competition will increase. And companies need to be  \n",
      "ready to act.\n",
      "\n",
      "rate-cutting cycle in August. One such example was Minerva Foods’ $1.5 billion acquisition of 16 \n",
      "slaughterhouse plants in Latin America from rival Marfrig Global Foods in a transformational deal \n",
      "expected to double its production capacity.\n",
      "As domestic dealmakers shake off the dust from a relatively low year of M&A activity in 2023, the \n",
      "market for the year ahead is likely to look different. Regulatory timelines are continuing to shorten, \n",
      "macroeconomic factors are increasingly favorable, and the presence and attention of international \n",
      "acquirers is unlikely to subside. Domestic private equity funds also have substantial dry powder \n",
      "after being largely absent from the market in 2023.\n",
      "Yet while deal math may get easier, competition will increase. And companies need to be  \n",
      "ready to act.\n",
      "Human: any insights about merge and acquisitions in the germany\u001b[0m\n",
      "\n",
      "\u001b[1m> Finished chain.\u001b[0m\n",
      "\n",
      "\u001b[1m> Finished chain.\u001b[0m\n",
      "Based on the context provided, it is clear that mergers and acquisitions (M&A) activity in Europe, including Germany, is expected to be influenced by sustainability factors such as acquiring cleaner categories like wood and capabilities for a low-carbon future. Additionally, there is a mention of regulatory timelines shortening and macroeconomic factors becoming increasingly favorable, which could impact the M&A landscape in Germany. However, there is no specific detail about recent M&A deals or trends specifically in Germany in the provided context.\n"
     ]
    },
    {
     "name": "stdin",
     "output_type": "stream",
     "text": [
      ">  and which country in europe highly active in the merge and acquisition activities? please also provide me some deals in details \n"
     ]
    },
    {
     "name": "stdout",
     "output_type": "stream",
     "text": [
      "\n",
      "\n",
      "\u001b[1m> Entering new LLMChain chain...\u001b[0m\n",
      "Prompt after formatting:\n",
      "\u001b[32;1m\u001b[1;3mGiven the following conversation and a follow up question, rephrase the follow up question to be a standalone question, in its original language.\n",
      "\n",
      "Chat History:\n",
      "\n",
      "Human: any insights about merge and acquisitions in the germany\n",
      "Assistant: Based on the context provided, it is clear that mergers and acquisitions (M&A) activity in Europe, including Germany, is expected to be influenced by sustainability factors such as acquiring cleaner categories like wood and capabilities for a low-carbon future. Additionally, there is a mention of regulatory timelines shortening and macroeconomic factors becoming increasingly favorable, which could impact the M&A landscape in Germany. However, there is no specific detail about recent M&A deals or trends specifically in Germany in the provided context.\n",
      "Follow Up Input: and which country in europe highly active in the merge and acquisition activities? please also provide me some deals in details \n",
      "Standalone question:\u001b[0m\n",
      "\n",
      "\u001b[1m> Finished chain.\u001b[0m\n",
      "\n",
      "\n",
      "\u001b[1m> Entering new StuffDocumentsChain chain...\u001b[0m\n",
      "\n",
      "\n",
      "\u001b[1m> Entering new LLMChain chain...\u001b[0m\n",
      "Prompt after formatting:\n",
      "\u001b[32;1m\u001b[1;3mSystem: Use the following pieces of context to answer the user's question. \n",
      "If you don't know the answer, just say that you don't know, don't try to make up an answer.\n",
      "----------------\n",
      "France, Japan, India, and Australia. Survey participants held senior executive roles with titles such \n",
      "as vice president, senior vice president/executive vice president, director, C-suite, or owner at \n",
      "companies with greater than $100 million in annual revenue that closed an M&A deal within the \n",
      "past three years, and they were responsible for M&A decision-making processes at their company.\n",
      "Regulation database of major deals\n",
      "Bain has created a proprietary database of major deals that received scrutiny by the US Federal \n",
      "Trade Commission (FTC), US Department of Justice (DOJ), UK Competition and Markets Authority, \n",
      "or European Commission. For the purposes of this report, the database includes 42 deals \n",
      "announced between 2022 and 2023. Scrutiny is defined as an official second request, investigation, \n",
      "or litigation by a regulatory body. Deal status was last updated on December 18, 2023. This\n",
      "\n",
      "France, Japan, India, and Australia. Survey participants held senior executive roles with titles such \n",
      "as vice president, senior vice president/executive vice president, director, C-suite, or owner at \n",
      "companies with greater than $100 million in annual revenue that closed an M&A deal within the \n",
      "past three years, and they were responsible for M&A decision-making processes at their company.\n",
      "Regulation database of major deals\n",
      "Bain has created a proprietary database of major deals that received scrutiny by the US Federal \n",
      "Trade Commission (FTC), US Department of Justice (DOJ), UK Competition and Markets Authority, \n",
      "or European Commission. For the purposes of this report, the database includes 42 deals \n",
      "announced between 2022 and 2023. Scrutiny is defined as an official second request, investigation, \n",
      "or litigation by a regulatory body. Deal status was last updated on December 18, 2023. This\n",
      "\n",
      "Regions\n",
      "M&A in Brazil: International Buyers Act  \n",
      "While Domestic Acquirers Show Caution  . . . . . . . . . . . . . . . . . . . . . . . . . . . . . . . . . . 97\n",
      "M&A in India: Continued Optimism Fuels Momentum  . . . . . . . . . . . . . . . . . . . . . . . 101\n",
      "M&A in Japan: Resilient Activity—but Now It’s Time for More  . . . . . . . . . . . . . . . . . 105\n",
      "M&A in the Middle East: From Green Energy to Asian Expansion to Football . . . . . 109\n",
      "\n",
      "Regions\n",
      "M&A in Brazil: International Buyers Act  \n",
      "While Domestic Acquirers Show Caution  . . . . . . . . . . . . . . . . . . . . . . . . . . . . . . . . . . 97\n",
      "M&A in India: Continued Optimism Fuels Momentum  . . . . . . . . . . . . . . . . . . . . . . . 101\n",
      "M&A in Japan: Resilient Activity—but Now It’s Time for More  . . . . . . . . . . . . . . . . . 105\n",
      "M&A in the Middle East: From Green Energy to Asian Expansion to Football . . . . . 109\n",
      "Human: Which country in Europe is highly active in mergers and acquisitions activities, and can you provide some detailed information about recent deals in that country?\u001b[0m\n",
      "\n",
      "\u001b[1m> Finished chain.\u001b[0m\n",
      "\n",
      "\u001b[1m> Finished chain.\u001b[0m\n",
      "Based on the provided context, Japan is highly active in mergers and acquisitions activities. The M&A activity in Japan is described as resilient, but there is a call for even more activity in the future. Unfortunately, the specific details of recent deals in Japan are not provided in the context available.\n"
     ]
    },
    {
     "name": "stdin",
     "output_type": "stream",
     "text": [
      ">  For the Europe countries?\n"
     ]
    },
    {
     "name": "stdout",
     "output_type": "stream",
     "text": [
      "\n",
      "\n",
      "\u001b[1m> Entering new LLMChain chain...\u001b[0m\n",
      "Prompt after formatting:\n",
      "\u001b[32;1m\u001b[1;3mGiven the following conversation and a follow up question, rephrase the follow up question to be a standalone question, in its original language.\n",
      "\n",
      "Chat History:\n",
      "\n",
      "Human: any insights about merge and acquisitions in the germany\n",
      "Assistant: Based on the context provided, it is clear that mergers and acquisitions (M&A) activity in Europe, including Germany, is expected to be influenced by sustainability factors such as acquiring cleaner categories like wood and capabilities for a low-carbon future. Additionally, there is a mention of regulatory timelines shortening and macroeconomic factors becoming increasingly favorable, which could impact the M&A landscape in Germany. However, there is no specific detail about recent M&A deals or trends specifically in Germany in the provided context.\n",
      "Human: and which country in europe highly active in the merge and acquisition activities? please also provide me some deals in details \n",
      "Assistant: Based on the provided context, Japan is highly active in mergers and acquisitions activities. The M&A activity in Japan is described as resilient, but there is a call for even more activity in the future. Unfortunately, the specific details of recent deals in Japan are not provided in the context available.\n",
      "Follow Up Input: For the Europe countries?\n",
      "Standalone question:\u001b[0m\n",
      "\n",
      "\u001b[1m> Finished chain.\u001b[0m\n",
      "\n",
      "\n",
      "\u001b[1m> Entering new StuffDocumentsChain chain...\u001b[0m\n",
      "\n",
      "\n",
      "\u001b[1m> Entering new LLMChain chain...\u001b[0m\n",
      "Prompt after formatting:\n",
      "\u001b[32;1m\u001b[1;3mSystem: Use the following pieces of context to answer the user's question. \n",
      "If you don't know the answer, just say that you don't know, don't try to make up an answer.\n",
      "----------------\n",
      "France, Japan, India, and Australia. Survey participants held senior executive roles with titles such \n",
      "as vice president, senior vice president/executive vice president, director, C-suite, or owner at \n",
      "companies with greater than $100 million in annual revenue that closed an M&A deal within the \n",
      "past three years, and they were responsible for M&A decision-making processes at their company.\n",
      "Regulation database of major deals\n",
      "Bain has created a proprietary database of major deals that received scrutiny by the US Federal \n",
      "Trade Commission (FTC), US Department of Justice (DOJ), UK Competition and Markets Authority, \n",
      "or European Commission. For the purposes of this report, the database includes 42 deals \n",
      "announced between 2022 and 2023. Scrutiny is defined as an official second request, investigation, \n",
      "or litigation by a regulatory body. Deal status was last updated on December 18, 2023. This\n",
      "\n",
      "France, Japan, India, and Australia. Survey participants held senior executive roles with titles such \n",
      "as vice president, senior vice president/executive vice president, director, C-suite, or owner at \n",
      "companies with greater than $100 million in annual revenue that closed an M&A deal within the \n",
      "past three years, and they were responsible for M&A decision-making processes at their company.\n",
      "Regulation database of major deals\n",
      "Bain has created a proprietary database of major deals that received scrutiny by the US Federal \n",
      "Trade Commission (FTC), US Department of Justice (DOJ), UK Competition and Markets Authority, \n",
      "or European Commission. For the purposes of this report, the database includes 42 deals \n",
      "announced between 2022 and 2023. Scrutiny is defined as an official second request, investigation, \n",
      "or litigation by a regulatory body. Deal status was last updated on December 18, 2023. This\n",
      "\n",
      "In Europe, domestic concentration levels are generally sufficient, so we don’t anticipate a lot of  \n",
      "in-market scale M&A. Nor do we see a rise in the number of cross-border scale deals as long as \n",
      "regulatory hurdles prevent banks from sharing liquidity across borders. Yet this is one issue to \n",
      "watch closely since potential progress toward greater banking union could shift the calculus.  \n",
      "While full banking union may still be distant, recent European Central Bank discussions indicate  \n",
      "an appetite to increase incentives and reduce barriers to cross-border mergers. If this happens, we \n",
      "could witness a new wave of cross-border M&A as Europe’s banks aim to improve their scale  \n",
      "and profitability.\n",
      "\n",
      "In Europe, domestic concentration levels are generally sufficient, so we don’t anticipate a lot of  \n",
      "in-market scale M&A. Nor do we see a rise in the number of cross-border scale deals as long as \n",
      "regulatory hurdles prevent banks from sharing liquidity across borders. Yet this is one issue to \n",
      "watch closely since potential progress toward greater banking union could shift the calculus.  \n",
      "While full banking union may still be distant, recent European Central Bank discussions indicate  \n",
      "an appetite to increase incentives and reduce barriers to cross-border mergers. If this happens, we \n",
      "could witness a new wave of cross-border M&A as Europe’s banks aim to improve their scale  \n",
      "and profitability.\n",
      "Human: Which countries in Europe are highly active in merger and acquisition activities and can you provide details of some recent deals?\u001b[0m\n",
      "\n",
      "\u001b[1m> Finished chain.\u001b[0m\n",
      "\n",
      "\u001b[1m> Finished chain.\u001b[0m\n",
      "Based on the provided context, it is mentioned that in Europe, there is potential for increased cross-border M&A activity if regulatory hurdles are reduced and incentives are increased for banks to merge across borders. This suggests that European countries could become more active in M&A activities if barriers are addressed. However, specific details of recent deals in Europe are not provided in the context.\n"
     ]
    }
   ],
   "source": [
    "print(\"Creating chains\")\n",
    "llm = ChatOpenAI()\n",
    "memory = ConversationBufferMemory(memory_key=\"chat_history\", return_messages=True)\n",
    "conversation = ConversationalRetrievalChain.from_llm(\n",
    "    llm, retriever=retriever, memory=memory, verbose=True)\n",
    "while(True):\n",
    "    user_input = input(\"> \")\n",
    "    result = conversation.invoke(user_input)\n",
    "    print(result[\"answer\"])\n"
   ]
  },
  {
   "cell_type": "code",
   "execution_count": null,
   "id": "0786df86-29ce-4308-983c-01ea3abf0d04",
   "metadata": {},
   "outputs": [],
   "source": []
  }
 ],
 "metadata": {
  "kernelspec": {
   "display_name": "Python 3 (ipykernel)",
   "language": "python",
   "name": "python3"
  },
  "language_info": {
   "codemirror_mode": {
    "name": "ipython",
    "version": 3
   },
   "file_extension": ".py",
   "mimetype": "text/x-python",
   "name": "python",
   "nbconvert_exporter": "python",
   "pygments_lexer": "ipython3",
   "version": "3.12.7"
  },
  "widgets": {
   "application/vnd.jupyter.widget-state+json": {
    "state": {},
    "version_major": 2,
    "version_minor": 0
   }
  }
 },
 "nbformat": 4,
 "nbformat_minor": 5
}
